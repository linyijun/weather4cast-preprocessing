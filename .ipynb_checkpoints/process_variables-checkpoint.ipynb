{
 "cells": [
  {
   "cell_type": "code",
   "execution_count": 2,
   "id": "ca42d154-49e2-4261-82e0-6c0dc82cbf1c",
   "metadata": {},
   "outputs": [
    {
     "name": "stdout",
     "output_type": "stream",
     "text": [
      "Using data for region R1 | size: 256 | Nile Region\n"
     ]
    }
   ],
   "source": [
    "import h5py\n",
    "from config import get_params\n",
    "\n",
    "data_path = '/home/yaoyi/shared/weather4cast21/data/'\n",
    "static_data_path = '/home/yaoyi/lin00786/weather4cast/data/static/'\n",
    "splits_path = '/home/yaoyi/lin00786/weather4cast/'\n",
    "\n",
    "params = get_params(data_path, static_data_path, splits_path, region_id='R1')\n"
   ]
  },
  {
   "cell_type": "markdown",
   "id": "2f8c082f-3af4-479a-9839-3a67d23ec258",
   "metadata": {},
   "source": [
    "### Load & Write Statics Features"
   ]
  },
  {
   "cell_type": "code",
   "execution_count": 20,
   "id": "7dd9bcf2-43d5-41f8-adb6-c90b05036903",
   "metadata": {},
   "outputs": [
    {
     "ename": "ImportError",
     "evalue": "cannot import name 'save_static_h5' from 'process_context_variables' (/panfs/roc/groups/14/yaoyi/lin00786/weather4cast/weather4cast-preprocessing/process_context_variables.py)",
     "output_type": "error",
     "traceback": [
      "\u001b[0;31m---------------------------------------------------------------------------\u001b[0m",
      "\u001b[0;31mImportError\u001b[0m                               Traceback (most recent call last)",
      "\u001b[0;32m/tmp/ipykernel_3585794/1007343605.py\u001b[0m in \u001b[0;36m<module>\u001b[0;34m\u001b[0m\n\u001b[1;32m      1\u001b[0m \u001b[0;32mimport\u001b[0m \u001b[0mos\u001b[0m\u001b[0;34m\u001b[0m\u001b[0;34m\u001b[0m\u001b[0m\n\u001b[0;32m----> 2\u001b[0;31m \u001b[0;32mfrom\u001b[0m \u001b[0mprocess_context_variables\u001b[0m \u001b[0;32mimport\u001b[0m \u001b[0mload_static\u001b[0m\u001b[0;34m,\u001b[0m \u001b[0msave_static_h5\u001b[0m\u001b[0;34m\u001b[0m\u001b[0;34m\u001b[0m\u001b[0m\n\u001b[0m\u001b[1;32m      3\u001b[0m \u001b[0;34m\u001b[0m\u001b[0m\n\u001b[1;32m      4\u001b[0m statics, descriptions = load_static(attributes=params['use_static'].split('-'), \n\u001b[1;32m      5\u001b[0m                                     \u001b[0mdata_paths\u001b[0m\u001b[0;34m=\u001b[0m\u001b[0mparams\u001b[0m\u001b[0;34m[\u001b[0m\u001b[0;34m'static_paths'\u001b[0m\u001b[0;34m]\u001b[0m\u001b[0;34m,\u001b[0m\u001b[0;34m\u001b[0m\u001b[0;34m\u001b[0m\u001b[0m\n",
      "\u001b[0;31mImportError\u001b[0m: cannot import name 'save_static_h5' from 'process_context_variables' (/panfs/roc/groups/14/yaoyi/lin00786/weather4cast/weather4cast-preprocessing/process_context_variables.py)"
     ]
    }
   ],
   "source": [
    "import os\n",
    "from process_context_variables import load_static, save_static_h5\n",
    "\n",
    "statics, descriptions = load_static(attributes=params['use_static'].split('-'), \n",
    "                                    data_paths=params['static_paths'], \n",
    "                                    crop=params['crop_static'])\n",
    "print(statics.shape)\n",
    "print(descriptions)\n",
    "\n",
    "output_path = '/home/yaoyi/lin00786/weather4cast/preprocess-data-new/static'\n",
    "output_file = os.path.join(output_path, 'static_{}.h5'.format(params['region_id']))\n",
    "\n",
    "with h5py.File(output_file, 'w') as hf:\n",
    "    dset = hf.create_dataset('data', data=statics)\n",
    "    dset.attrs['descriptions'] = descriptions\n"
   ]
  },
  {
   "cell_type": "code",
   "execution_count": 5,
   "id": "b7f54f00-b92d-494a-9240-d4dd79136b04",
   "metadata": {},
   "outputs": [
    {
     "name": "stdout",
     "output_type": "stream",
     "text": [
      "<KeysViewHDF5 ['data']>\n",
      "['latitude', 'longitude', 'altitudes']\n",
      "(3, 256, 256)\n"
     ]
    }
   ],
   "source": [
    "\"\"\" to use the data \"\"\"\n",
    "import h5py\n",
    "import numpy as np\n",
    "\n",
    "hf = h5py.File(output_file, 'r')\n",
    "print(hf.keys())\n",
    "print(list(hf['data'].attrs['descriptions']))\n",
    "data = np.array(hf['data'])\n",
    "print(data.shape)\n"
   ]
  },
  {
   "cell_type": "markdown",
   "id": "7deaa186-ce7c-4e71-8e44-36e96ccd47df",
   "metadata": {},
   "source": [
    "### Load & Write Dynamic Features"
   ]
  },
  {
   "cell_type": "code",
   "execution_count": null,
   "id": "925af49d-a0fd-4b7a-80dc-f87fce4f887d",
   "metadata": {},
   "outputs": [],
   "source": [
    "import os\n",
    "import time\n",
    "from process_dynamic_variables import load_sequence_netcdf4\n",
    "\n",
    "days = ['2019'+ '%03d'%i for i in range(366)]\n",
    "days += ['2020'+ '%03d'%i for i in range(366)]\n",
    "data_path = '/home/yaoyi/lin00786/weather4cast/data/core-w4c/R1/data'\n",
    "output_path = '/home/yaoyi/lin00786/weather4cast/preprocess-data-new/R1'\n",
    "\n",
    "for day_in_year in days:\n",
    "    \n",
    "    start_time = time.time()\n",
    "    \n",
    "    if not os.path.exists(os.path.join(data_path, day_in_year)):\n",
    "        continue\n",
    "     \n",
    "    sequence, channels, blacklist = load_sequence_netcdf4(day_in_year=int(day_in_year),\n",
    "                                                          products=params['products'], \n",
    "                                                          data_path=data_path,\n",
    "                                                          preprocess=params['preprocess']['source'])\n",
    "\n",
    "    output_file = os.path.join(output_path, f'{day_in_year}.h5')\n",
    "    \n",
    "    with h5py.File(output_file, 'w') as hf:\n",
    "        dset = hf.create_dataset('data', data=sequence)\n",
    "        dset.attrs['descriptions'] = channels\n",
    "        dset.attrs['blacklist'] = blacklist\n",
    "        \n",
    "    print(f'=== {day_in_year} - {time.time() - start_time} ===')\n",
    "    "
   ]
  },
  {
   "cell_type": "code",
   "execution_count": 46,
   "id": "419391ac-d08f-4623-b737-83f3536b7ee0",
   "metadata": {},
   "outputs": [
    {
     "name": "stdout",
     "output_type": "stream",
     "text": [
      "/home/yaoyi/lin00786/weather4cast/preprocess-data-new/R1/2019046.h5\n",
      "<KeysViewHDF5 ['data']>\n",
      "['temperature', 'crr_intensity', 'asii_turb_trop_prob', 'cma']\n",
      "[]\n",
      "False\n"
     ]
    }
   ],
   "source": [
    "\"\"\" to use the data \"\"\"\n",
    "import h5py\n",
    "import numpy as np\n",
    "\n",
    "days = ['2019'+ '%03d'%i for i in range(366)]\n",
    "days += ['2020'+ '%03d'%i for i in range(366)]\n",
    "\n",
    "output_path = '/home/yaoyi/lin00786/weather4cast/preprocess-data-new/R1'\n",
    "\n",
    "for day_in_year in days:\n",
    "\n",
    "    output_file = os.path.join(output_path, f'{day_in_year}.h5')\n",
    "    if not os.path.exists(output_file):\n",
    "        continue\n",
    "    \n",
    "    print(output_file)\n",
    "    hf = h5py.File(output_file, 'r')\n",
    "    if len(list(hf['data'].attrs['blacklist'])) > 0:\n",
    "        print(day_in_year, list(hf['data'].attrs['blacklist']))\n",
    "    \n",
    "    print(hf.keys())\n",
    "    print(list(hf['data'].attrs['descriptions']))\n",
    "    print(list(hf['data'].attrs['blacklist']))\n",
    "\n",
    "    data = np.ma.array(hf['data'])\n",
    "    print(data.mask)\n",
    "\n",
    "    "
   ]
  },
  {
   "cell_type": "code",
   "execution_count": null,
   "id": "dbd31b4b-8c68-419f-b649-214b319cb7d6",
   "metadata": {},
   "outputs": [],
   "source": []
  },
  {
   "cell_type": "code",
   "execution_count": null,
   "id": "83fdd5c8-2443-45ff-a183-4ebfee3766bd",
   "metadata": {},
   "outputs": [],
   "source": []
  },
  {
   "cell_type": "code",
   "execution_count": null,
   "id": "fc1f7802-03a1-4f3f-9cad-ef9d1c11c661",
   "metadata": {},
   "outputs": [],
   "source": []
  },
  {
   "cell_type": "code",
   "execution_count": 13,
   "id": "175a2742-c22e-4161-b61b-6b98798955b6",
   "metadata": {},
   "outputs": [
    {
     "data": {
      "text/plain": [
       "dtype('bool')"
      ]
     },
     "execution_count": 13,
     "metadata": {},
     "output_type": "execute_result"
    }
   ],
   "source": [
    "import netCDF4\n",
    "\n",
    "file = f'/home/yaoyi/lin00786/weather4cast/data/core-w4c/R1/data/2019046/CT/S_NWC_CT_MSG4_Europe-VISIR_20190215T071500Z.nc'\n",
    "ds = netCDF4.Dataset(file, 'r')\n",
    "np.any(ds.variables['ct'][...].mask).dtype"
   ]
  },
  {
   "cell_type": "code",
   "execution_count": 4,
   "id": "12cfdcd6-3275-4e99-8fdf-be26ba2930b9",
   "metadata": {},
   "outputs": [
    {
     "ename": "KeyError",
     "evalue": "'ct'",
     "output_type": "error",
     "traceback": [
      "\u001b[0;31m---------------------------------------------------------------------------\u001b[0m",
      "\u001b[0;31mKeyError\u001b[0m                                  Traceback (most recent call last)",
      "\u001b[0;32m/tmp/ipykernel_3585794/1316938064.py\u001b[0m in \u001b[0;36m<module>\u001b[0;34m\u001b[0m\n\u001b[1;32m      1\u001b[0m \u001b[0;32mimport\u001b[0m \u001b[0mnumpy\u001b[0m \u001b[0;32mas\u001b[0m \u001b[0mnp\u001b[0m\u001b[0;34m\u001b[0m\u001b[0;34m\u001b[0m\u001b[0m\n\u001b[1;32m      2\u001b[0m \u001b[0;34m\u001b[0m\u001b[0m\n\u001b[0;32m----> 3\u001b[0;31m \u001b[0mdata\u001b[0m \u001b[0;34m=\u001b[0m \u001b[0mds\u001b[0m\u001b[0;34m.\u001b[0m\u001b[0mvariables\u001b[0m\u001b[0;34m[\u001b[0m\u001b[0;34m'ct'\u001b[0m\u001b[0;34m]\u001b[0m\u001b[0;34m[\u001b[0m\u001b[0;34m...\u001b[0m\u001b[0;34m]\u001b[0m\u001b[0;34m\u001b[0m\u001b[0;34m\u001b[0m\u001b[0m\n\u001b[0m\u001b[1;32m      4\u001b[0m \u001b[0mnp\u001b[0m\u001b[0;34m.\u001b[0m\u001b[0mma\u001b[0m\u001b[0;34m.\u001b[0m\u001b[0mgetmask\u001b[0m\u001b[0;34m(\u001b[0m\u001b[0mdata\u001b[0m\u001b[0;34m)\u001b[0m\u001b[0;34m\u001b[0m\u001b[0;34m\u001b[0m\u001b[0m\n",
      "\u001b[0;31mKeyError\u001b[0m: 'ct'"
     ]
    }
   ],
   "source": [
    "import numpy as np\n",
    "\n",
    "data = ds.variables['ct'][...]\n",
    "np.ma.getmask(data)\n"
   ]
  },
  {
   "cell_type": "code",
   "execution_count": 11,
   "id": "14b1b05f-6a1a-4a3a-868a-f1a5d89feb28",
   "metadata": {},
   "outputs": [
    {
     "ename": "ValueError",
     "evalue": "The truth value of an array with more than one element is ambiguous. Use a.any() or a.all()",
     "output_type": "error",
     "traceback": [
      "\u001b[0;31m---------------------------------------------------------------------------\u001b[0m",
      "\u001b[0;31mValueError\u001b[0m                                Traceback (most recent call last)",
      "\u001b[0;32m/tmp/ipykernel_3585794/2841910841.py\u001b[0m in \u001b[0;36m<module>\u001b[0;34m\u001b[0m\n\u001b[1;32m      1\u001b[0m \u001b[0mfile\u001b[0m \u001b[0;34m=\u001b[0m \u001b[0;34mf'/home/yaoyi/lin00786/weather4cast/data/core-w4c/R1/data/2019046/CTTH/S_NWC_CTTH_MSG4_Europe-VISIR_20190215T074500Z.nc'\u001b[0m\u001b[0;34m\u001b[0m\u001b[0;34m\u001b[0m\u001b[0m\n\u001b[1;32m      2\u001b[0m \u001b[0mds\u001b[0m \u001b[0;34m=\u001b[0m \u001b[0mnetCDF4\u001b[0m\u001b[0;34m.\u001b[0m\u001b[0mDataset\u001b[0m\u001b[0;34m(\u001b[0m\u001b[0mfile\u001b[0m\u001b[0;34m,\u001b[0m \u001b[0;34m'r'\u001b[0m\u001b[0;34m)\u001b[0m\u001b[0;34m\u001b[0m\u001b[0;34m\u001b[0m\u001b[0m\n\u001b[0;32m----> 3\u001b[0;31m \u001b[0;32mif\u001b[0m \u001b[0mds\u001b[0m\u001b[0;34m.\u001b[0m\u001b[0mvariables\u001b[0m\u001b[0;34m[\u001b[0m\u001b[0;34m'temperature'\u001b[0m\u001b[0;34m]\u001b[0m\u001b[0;34m[\u001b[0m\u001b[0;34m...\u001b[0m\u001b[0;34m]\u001b[0m\u001b[0;34m.\u001b[0m\u001b[0mmask\u001b[0m \u001b[0;34m==\u001b[0m \u001b[0;32mFalse\u001b[0m\u001b[0;34m:\u001b[0m\u001b[0;34m\u001b[0m\u001b[0;34m\u001b[0m\u001b[0m\n\u001b[0m\u001b[1;32m      4\u001b[0m     \u001b[0mprint\u001b[0m\u001b[0;34m(\u001b[0m\u001b[0;34m'a'\u001b[0m\u001b[0;34m)\u001b[0m\u001b[0;34m\u001b[0m\u001b[0;34m\u001b[0m\u001b[0m\n\u001b[1;32m      5\u001b[0m \u001b[0;34m\u001b[0m\u001b[0m\n",
      "\u001b[0;31mValueError\u001b[0m: The truth value of an array with more than one element is ambiguous. Use a.any() or a.all()"
     ]
    }
   ],
   "source": [
    "file = f'/home/yaoyi/lin00786/weather4cast/data/core-w4c/R1/data/2019046/CTTH/S_NWC_CTTH_MSG4_Europe-VISIR_20190215T074500Z.nc'\n",
    "ds = netCDF4.Dataset(file, 'r')\n",
    "if ds.variables['temperature'][...].mask == False:\n",
    "    print('a')\n",
    "\n"
   ]
  },
  {
   "cell_type": "code",
   "execution_count": 18,
   "id": "373e2ffe-e61a-4037-9d4b-738075062556",
   "metadata": {},
   "outputs": [
    {
     "name": "stdout",
     "output_type": "stream",
     "text": [
      "(1, 5)\n",
      "(5, 5)\n"
     ]
    }
   ],
   "source": [
    "a = np.array([[1,2,3,4,5]])\n",
    "print(a.shape)\n",
    "print(np.repeat(a, 5, 0).shape)"
   ]
  },
  {
   "cell_type": "code",
   "execution_count": null,
   "id": "becae1aa-cb20-4e0e-a196-9992ecccd74a",
   "metadata": {},
   "outputs": [],
   "source": []
  }
 ],
 "metadata": {
  "kernelspec": {
   "display_name": "Python 3 (ipykernel)",
   "language": "python",
   "name": "python3"
  },
  "language_info": {
   "codemirror_mode": {
    "name": "ipython",
    "version": 3
   },
   "file_extension": ".py",
   "mimetype": "text/x-python",
   "name": "python",
   "nbconvert_exporter": "python",
   "pygments_lexer": "ipython3",
   "version": "3.9.7"
  }
 },
 "nbformat": 4,
 "nbformat_minor": 5
}
